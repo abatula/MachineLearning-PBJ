{
 "cells": [
  {
   "cell_type": "markdown",
   "metadata": {
    "slideshow": {
     "slide_type": "slide"
    }
   },
   "source": [
    "Will there be a tornado today? Classification with Scikit-Learn\n",
    "===\n",
    "\n",
    "Alyssa Batula\n",
    "---\n",
    "\n",
    "IndyPy 8/14/2018\n",
    "---"
   ]
  },
  {
   "cell_type": "markdown",
   "metadata": {
    "slideshow": {
     "slide_type": "slide"
    }
   },
   "source": [
    "The Problem\n",
    "===\n",
    "\n",
    "* Dataset: [NOAA Weather Data](https://www.kaggle.com/noaa/gsod) from Kaggle \n",
    "    - Daily weather recordings from ~9,000 weather stations\n",
    "    - Temperature, precipitation, fog, etc.\n",
    "* Goal: predict if tornado will form based on other weather data\n",
    "    - Classification: yes or no\n",
    "* Compare 4 classifiers"
   ]
  },
  {
   "cell_type": "markdown",
   "metadata": {
    "slideshow": {
     "slide_type": "slide"
    }
   },
   "source": [
    "Assumptions\n",
    "===\n",
    "\n",
    "* Dataset has been cleaned/scrubbed\n",
    "    - No missing data\n",
    "    - All features numeric\n",
    "* Un-needed features removed"
   ]
  },
  {
   "cell_type": "code",
   "execution_count": 1,
   "metadata": {
    "slideshow": {
     "slide_type": "skip"
    }
   },
   "outputs": [],
   "source": [
    "# Imports\n",
    "from IPython.display import display\n",
    "\n",
    "import pandas as pd\n",
    "import numpy as np\n",
    "import matplotlib.pyplot as plt\n",
    "%matplotlib inline"
   ]
  },
  {
   "cell_type": "markdown",
   "metadata": {
    "slideshow": {
     "slide_type": "slide"
    }
   },
   "source": [
    "The Data\n",
    "==="
   ]
  },
  {
   "cell_type": "code",
   "execution_count": 2,
   "metadata": {
    "slideshow": {
     "slide_type": "-"
    }
   },
   "outputs": [
    {
     "data": {
      "text/html": [
       "<div>\n",
       "<style scoped>\n",
       "    .dataframe tbody tr th:only-of-type {\n",
       "        vertical-align: middle;\n",
       "    }\n",
       "\n",
       "    .dataframe tbody tr th {\n",
       "        vertical-align: top;\n",
       "    }\n",
       "\n",
       "    .dataframe thead th {\n",
       "        text-align: right;\n",
       "    }\n",
       "</style>\n",
       "<table border=\"1\" class=\"dataframe\">\n",
       "  <thead>\n",
       "    <tr style=\"text-align: right;\">\n",
       "      <th></th>\n",
       "      <th>temp</th>\n",
       "      <th>fog</th>\n",
       "      <th>rain_drizzle</th>\n",
       "      <th>prcp</th>\n",
       "      <th>hail</th>\n",
       "      <th>thunder</th>\n",
       "      <th>tornado_funnel_cloud</th>\n",
       "    </tr>\n",
       "  </thead>\n",
       "  <tbody>\n",
       "    <tr>\n",
       "      <th>count</th>\n",
       "      <td>4700.000000</td>\n",
       "      <td>4700.000000</td>\n",
       "      <td>4700.000000</td>\n",
       "      <td>4700.000000</td>\n",
       "      <td>4700.000000</td>\n",
       "      <td>4700.000000</td>\n",
       "      <td>4700.000000</td>\n",
       "    </tr>\n",
       "    <tr>\n",
       "      <th>mean</th>\n",
       "      <td>58.785043</td>\n",
       "      <td>0.076809</td>\n",
       "      <td>0.372766</td>\n",
       "      <td>0.122770</td>\n",
       "      <td>0.005532</td>\n",
       "      <td>0.146596</td>\n",
       "      <td>0.255319</td>\n",
       "    </tr>\n",
       "    <tr>\n",
       "      <th>std</th>\n",
       "      <td>24.130119</td>\n",
       "      <td>0.266316</td>\n",
       "      <td>0.483592</td>\n",
       "      <td>0.399898</td>\n",
       "      <td>0.074179</td>\n",
       "      <td>0.353740</td>\n",
       "      <td>0.436087</td>\n",
       "    </tr>\n",
       "    <tr>\n",
       "      <th>min</th>\n",
       "      <td>-50.900000</td>\n",
       "      <td>0.000000</td>\n",
       "      <td>0.000000</td>\n",
       "      <td>0.000000</td>\n",
       "      <td>0.000000</td>\n",
       "      <td>0.000000</td>\n",
       "      <td>0.000000</td>\n",
       "    </tr>\n",
       "    <tr>\n",
       "      <th>25%</th>\n",
       "      <td>44.600000</td>\n",
       "      <td>0.000000</td>\n",
       "      <td>0.000000</td>\n",
       "      <td>0.000000</td>\n",
       "      <td>0.000000</td>\n",
       "      <td>0.000000</td>\n",
       "      <td>0.000000</td>\n",
       "    </tr>\n",
       "    <tr>\n",
       "      <th>50%</th>\n",
       "      <td>64.000000</td>\n",
       "      <td>0.000000</td>\n",
       "      <td>0.000000</td>\n",
       "      <td>0.000000</td>\n",
       "      <td>0.000000</td>\n",
       "      <td>0.000000</td>\n",
       "      <td>0.000000</td>\n",
       "    </tr>\n",
       "    <tr>\n",
       "      <th>75%</th>\n",
       "      <td>79.100000</td>\n",
       "      <td>0.000000</td>\n",
       "      <td>1.000000</td>\n",
       "      <td>0.040000</td>\n",
       "      <td>0.000000</td>\n",
       "      <td>0.000000</td>\n",
       "      <td>1.000000</td>\n",
       "    </tr>\n",
       "    <tr>\n",
       "      <th>max</th>\n",
       "      <td>101.900000</td>\n",
       "      <td>1.000000</td>\n",
       "      <td>1.000000</td>\n",
       "      <td>11.810000</td>\n",
       "      <td>1.000000</td>\n",
       "      <td>1.000000</td>\n",
       "      <td>1.000000</td>\n",
       "    </tr>\n",
       "  </tbody>\n",
       "</table>\n",
       "</div>"
      ],
      "text/plain": [
       "              temp          fog  rain_drizzle         prcp         hail  \\\n",
       "count  4700.000000  4700.000000   4700.000000  4700.000000  4700.000000   \n",
       "mean     58.785043     0.076809      0.372766     0.122770     0.005532   \n",
       "std      24.130119     0.266316      0.483592     0.399898     0.074179   \n",
       "min     -50.900000     0.000000      0.000000     0.000000     0.000000   \n",
       "25%      44.600000     0.000000      0.000000     0.000000     0.000000   \n",
       "50%      64.000000     0.000000      0.000000     0.000000     0.000000   \n",
       "75%      79.100000     0.000000      1.000000     0.040000     0.000000   \n",
       "max     101.900000     1.000000      1.000000    11.810000     1.000000   \n",
       "\n",
       "           thunder  tornado_funnel_cloud  \n",
       "count  4700.000000           4700.000000  \n",
       "mean      0.146596              0.255319  \n",
       "std       0.353740              0.436087  \n",
       "min       0.000000              0.000000  \n",
       "25%       0.000000              0.000000  \n",
       "50%       0.000000              0.000000  \n",
       "75%       0.000000              1.000000  \n",
       "max       1.000000              1.000000  "
      ]
     },
     "execution_count": 2,
     "metadata": {},
     "output_type": "execute_result"
    }
   ],
   "source": [
    "data = pd.read_csv('data/NOAA.csv')\n",
    "\n",
    "data[['temp', 'fog', 'rain_drizzle', 'prcp', 'hail', 'thunder', 'tornado_funnel_cloud']].describe()"
   ]
  },
  {
   "cell_type": "markdown",
   "metadata": {
    "slideshow": {
     "slide_type": "slide"
    }
   },
   "source": [
    "Determine Target Variable and Features\n",
    "---\n",
    "\n",
    "* Classification: Tornado (1) or No Tornado (0)\n",
    "* Target value in `y`\n",
    "* Features in `X`"
   ]
  },
  {
   "cell_type": "code",
   "execution_count": 3,
   "metadata": {
    "slideshow": {
     "slide_type": "-"
    }
   },
   "outputs": [],
   "source": [
    "y = data['tornado_funnel_cloud']\n",
    "X = data.drop('tornado_funnel_cloud', axis=1)"
   ]
  },
  {
   "cell_type": "markdown",
   "metadata": {
    "slideshow": {
     "slide_type": "slide"
    }
   },
   "source": [
    "Training, Testing, and Validation\n",
    "===\n",
    "\n",
    "![Train/Test/Validation Split](img/TrainTestValSplit.png)\n",
    "\n",
    "- **Training Set** - Portion of the data used to train a machine learning algorithm.\n",
    "- **Validation Set** - (Optional) Portion of data (usually 10-30%) used for testing during parameter tuning or classifier selection.\n",
    "- **Testing Set** - Portion of the data (usually 10-30%) not used in training, used to evaluate performance."
   ]
  },
  {
   "cell_type": "markdown",
   "metadata": {
    "slideshow": {
     "slide_type": "slide"
    }
   },
   "source": [
    "Training, Testing, and Validation\n",
    "===\n",
    "\n",
    "* **Training Set** - Homework\n",
    "    - Many exercises, start knowing nothing\n",
    "    - Use the answers to learn"
   ]
  },
  {
   "cell_type": "markdown",
   "metadata": {
    "slideshow": {
     "slide_type": "fragment"
    }
   },
   "source": [
    "* **Validation Set** - Practice Exam\n",
    "    - Few exercises, use knowledge learned from training set/homework\n",
    "    - Use answers to decide if you're ready for the test"
   ]
  },
  {
   "cell_type": "markdown",
   "metadata": {
    "slideshow": {
     "slide_type": "fragment"
    }
   },
   "source": [
    "* **Test Set** - Final Exam\n",
    "    - Few exercises, use knowledge learned from training and validation\n",
    "    - Use answers to give your algorithm a final grade"
   ]
  },
  {
   "cell_type": "markdown",
   "metadata": {
    "slideshow": {
     "slide_type": "slide"
    }
   },
   "source": [
    "Create a Test Set\n",
    "==="
   ]
  },
  {
   "cell_type": "code",
   "execution_count": 4,
   "metadata": {
    "slideshow": {
     "slide_type": "-"
    }
   },
   "outputs": [
    {
     "name": "stdout",
     "output_type": "stream",
     "text": [
      "Original dataset size: (4700, 28)\n",
      "Training & Validation dataset size: (3525, 28)\n",
      "Test dataset size: (1175, 28)\n"
     ]
    }
   ],
   "source": [
    "from sklearn.model_selection import train_test_split\n",
    "\n",
    "X_trainval, X_test, y_trainval, y_test = train_test_split(X, y, \n",
    "                                                          test_size=0.25, # Percentage of data for test set\n",
    "                                                          stratify=y, # Keep label distribution when splitting\n",
    "                                                          random_state=42 # Set the random seed for repeatability\n",
    "                                                         )\n",
    "\n",
    "print(f'Original dataset size: {X.shape}')\n",
    "print(f'Training & Validation dataset size: {X_trainval.shape}')\n",
    "print(f'Test dataset size: {X_test.shape}')"
   ]
  },
  {
   "cell_type": "markdown",
   "metadata": {
    "slideshow": {
     "slide_type": "slide"
    }
   },
   "source": [
    "Create Validation and Training Sets\n",
    "---"
   ]
  },
  {
   "cell_type": "code",
   "execution_count": 7,
   "metadata": {
    "scrolled": true,
    "slideshow": {
     "slide_type": "-"
    }
   },
   "outputs": [
    {
     "name": "stdout",
     "output_type": "stream",
     "text": [
      "Original dataset size: (4700, 28)\n",
      "Training dataset size: (2361, 28)\n",
      "Validation dataset size: (1164, 28)\n",
      "Test dataset size: (1175, 28)\n"
     ]
    }
   ],
   "source": [
    "X_train, X_val, y_train, y_val = train_test_split(X_trainval, y_trainval, \n",
    "                                                          test_size=0.33, # Percentage of data for validation set\n",
    "                                                          stratify=y_trainval, # Keep label distribution when splitting\n",
    "                                                          random_state=42 # Set the random seed for repeatability\n",
    "                                                         )\n",
    "\n",
    "print(f'Original dataset size: {X.shape}')\n",
    "print(f'Training dataset size: {X_train.shape}')\n",
    "print(f'Validation dataset size: {X_val.shape}')\n",
    "print(f'Test dataset size: {X_test.shape}')"
   ]
  },
  {
   "cell_type": "markdown",
   "metadata": {
    "slideshow": {
     "slide_type": "slide"
    }
   },
   "source": [
    "Classifiers\n",
    "===\n",
    "\n",
    "* K Nearest Neighbors (KNN)\n",
    "* Support Vector Machine (SVM)"
   ]
  },
  {
   "cell_type": "code",
   "execution_count": 31,
   "metadata": {
    "slideshow": {
     "slide_type": "skip"
    }
   },
   "outputs": [
    {
     "data": {
      "image/png": "[encoded data removed]",
      "text/plain": [
       "<matplotlib.figure.Figure at 0x7feef6a95c50>"
      ]
     },
     "metadata": {},
     "output_type": "display_data"
    }
   ],
   "source": [
    "from sklearn import neighbors\n",
    "from matplotlib.colors import ListedColormap\n",
    "\n",
    "X = np.array([[0,1], [1,2], [0,3.5], [0.5,1], [1,4], [0.5, 3], [2,1], [3,4], [0.5, 2], [1.5, 3], [2.2, 2.2], [2.5, 1.8]])\n",
    "y = [0, 0, 0, 0, 0, 0, 1, 1, 1, 1, 1 ,1]\n",
    "\n",
    "clf = neighbors.KNeighborsClassifier(3)\n",
    "clf.fit(X,y)\n",
    "\n",
    "h = .02  # step size in the mesh\n",
    "\n",
    "# Plot the decision boundary. For that, we will assign a color to each\n",
    "# point in the mesh [x_min, m_max]x[y_min, y_max].\n",
    "x_min, x_max = X[:, 0].min() - 1, X[:, 0].max() + 1\n",
    "y_min, y_max = X[:, 1].min() - 1, X[:, 1].max() + 1\n",
    "xx, yy = np.meshgrid(np.arange(x_min, x_max, h),\n",
    "                     np.arange(y_min, y_max, h))\n",
    "\n",
    "Z = clf.predict(np.c_[xx.ravel(), yy.ravel()]) # Make a prediction oat every point \n",
    "                                               # in the mesh in order to find the \n",
    "                                               # classification areas for each label\n",
    "        \n",
    "# Create the color maps\n",
    "cmap_bold = ListedColormap(['#FF0000', '#00FF00', '#0000FF'])\n",
    "cmap_light = ListedColormap(['#FFAAAA', '#AAFFAA', '#AAAAFF'])\n",
    "\n",
    "# Put the result into a color plot\n",
    "Z = Z.reshape(xx.shape)\n",
    "plt.figure(figsize=(8, 6))\n",
    "plt.pcolormesh(xx, yy, Z, cmap=cmap_light)\n",
    "\n",
    "# Plot the training points\n",
    "plt.scatter(X[:, 0], X[:, 1], c=y, cmap=cmap_bold, s=100)\n",
    "plt.xlim(xx.min(), xx.max())\n",
    "plt.ylim(yy.min(), yy.max())\n",
    "plt.title(\"KNN with K=3\", fontsize=22)\n",
    "plt.xlabel('Feature 1', fontsize=18)\n",
    "plt.ylabel('Feature 2', fontsize=18)\n",
    "\n",
    "plt.scatter(0.3, 1.7, c='k', marker='^', s=300)\n",
    "plt.savefig('img/knn_example.png', dpi=500)\n",
    "plt.show()"
   ]
  },
  {
   "cell_type": "markdown",
   "metadata": {
    "slideshow": {
     "slide_type": "slide"
    }
   },
   "source": [
    "K Nearest Neighbors (KNN)\n",
    "---\n",
    "\n",
    "* Assigns label based on nearest labeled datapoints\n",
    "\n",
    "![KNN Example](img/knn_example.png)"
   ]
  },
  {
   "cell_type": "markdown",
   "metadata": {
    "slideshow": {
     "slide_type": "notes"
    }
   },
   "source": [
    "KNN Notes\n",
    "---\n",
    "\n",
    "* Label chosen based on vote of nearest labeled examples\n",
    "* In plot above: red and blue circles are two classes, black triangle is unknown point\n",
    "* Triangle will be labeled red, since we chose K=3 and 2/3 closest points are red"
   ]
  },
  {
   "cell_type": "markdown",
   "metadata": {},
   "source": [
    "The classifier (KNN)\n",
    "---"
   ]
  },
  {
   "cell_type": "code",
   "execution_count": 7,
   "metadata": {},
   "outputs": [
    {
     "name": "stdout",
     "output_type": "stream",
     "text": [
      "Accuracy is 73.66%\n"
     ]
    }
   ],
   "source": [
    "from sklearn import neighbors\n",
    "from sklearn.metrics import accuracy_score\n",
    "\n",
    "n_neighbors = 15\n",
    "clf = neighbors.KNeighborsClassifier(n_neighbors)\n",
    "clf.fit(X_train, y_train)\n",
    "\n",
    "predictions = clf.predict(X_val)\n",
    "acc = accuracy_score(y_val, predictions) * 100\n",
    "\n",
    "print(f'Accuracy is {acc:.2f}%')"
   ]
  },
  {
   "cell_type": "markdown",
   "metadata": {},
   "source": [
    "Combine the classifier and crossvalidation\n",
    "---"
   ]
  },
  {
   "cell_type": "code",
   "execution_count": 8,
   "metadata": {},
   "outputs": [
    {
     "name": "stdout",
     "output_type": "stream",
     "text": [
      "Average Accuracy: 77.01%\n",
      "Standard Deviation of Accuracy: 2.20\n"
     ]
    }
   ],
   "source": [
    "n_neighbors = 15\n",
    "clf = neighbors.KNeighborsClassifier(n_neighbors)\n",
    "\n",
    "foldAcc = []\n",
    "\n",
    "kf = StratifiedKFold(n_splits=10, random_state=42)\n",
    "for trainInd, valInd in kf.split(X_trainval, y_trainval):\n",
    "    X_train = X_trainval.iloc[trainInd,:]\n",
    "    y_train = y_trainval.iloc[trainInd]\n",
    "    X_val = X_trainval.iloc[valInd,:]\n",
    "    y_val = y_trainval.iloc[valInd]\n",
    "    \n",
    "    clf.fit(X_train, y_train)\n",
    "    predictions = clf.predict(X_val)\n",
    "    acc = accuracy_score(y_val, predictions) * 100\n",
    "    foldAcc.append(acc)\n",
    "    \n",
    "print(f'Average Accuracy: {np.mean(foldAcc):.2f}%')\n",
    "print(f'Standard Deviation of Accuracy: {np.std(foldAcc):.2f}')"
   ]
  },
  {
   "cell_type": "markdown",
   "metadata": {},
   "source": [
    "SVM\n",
    "---\n",
    "\n",
    "* Very quick intro"
   ]
  },
  {
   "cell_type": "code",
   "execution_count": 9,
   "metadata": {},
   "outputs": [
    {
     "name": "stdout",
     "output_type": "stream",
     "text": [
      "Accuracy is 61.61%\n"
     ]
    }
   ],
   "source": [
    "from sklearn.svm import SVC\n",
    "from sklearn.metrics import accuracy_score\n",
    "\n",
    "clf = SVC(C=1.0, kernel='rbf')\n",
    "clf.fit(X_train, y_train)\n",
    "\n",
    "predictions = clf.predict(X_val)\n",
    "acc = accuracy_score(y_val, predictions) * 100\n",
    "\n",
    "print(f'Accuracy is {acc:.2f}%')"
   ]
  },
  {
   "cell_type": "code",
   "execution_count": 10,
   "metadata": {},
   "outputs": [
    {
     "name": "stdout",
     "output_type": "stream",
     "text": [
      "Average Accuracy: 59.69%\n",
      "Standard Deviation of Accuracy: 2.25\n"
     ]
    }
   ],
   "source": [
    "clf = SVC(C=1.0, kernel='rbf')\n",
    "\n",
    "foldAcc = []\n",
    "\n",
    "kf = StratifiedKFold(n_splits=10, random_state=42)\n",
    "for trainInd, valInd in kf.split(X_trainval, y_trainval):\n",
    "    X_train = X_trainval.iloc[trainInd,:]\n",
    "    y_train = y_trainval.iloc[trainInd]\n",
    "    X_val = X_trainval.iloc[valInd,:]\n",
    "    y_val = y_trainval.iloc[valInd]\n",
    "    \n",
    "    clf.fit(X_train, y_train)\n",
    "    predictions = clf.predict(X_val)\n",
    "    acc = accuracy_score(y_val, predictions) * 100\n",
    "    foldAcc.append(acc)\n",
    "    \n",
    "print(f'Average Accuracy: {np.mean(foldAcc):.2f}%')\n",
    "print(f'Standard Deviation of Accuracy: {np.std(foldAcc):.2f}')"
   ]
  },
  {
   "cell_type": "markdown",
   "metadata": {},
   "source": [
    "Choose the Best Classifier\n",
    "---"
   ]
  },
  {
   "cell_type": "code",
   "execution_count": 11,
   "metadata": {},
   "outputs": [],
   "source": [
    "clf_svm1 = SVC(C=1.0, kernel='rbf')\n",
    "clf_svm2 = SVC(C=0.1, kernel='sigmoid')\n",
    "clf_knn1 = neighbors.KNeighborsClassifier(5)\n",
    "clf_knn2 = neighbors.KNeighborsClassifier(10)\n",
    "\n",
    "foldAcc_svm1 = []\n",
    "foldAcc_svm2 = []\n",
    "foldAcc_knn1 = []\n",
    "foldAcc_knn2 = []\n",
    "\n",
    "kf = StratifiedKFold(n_splits=10, random_state=42)"
   ]
  },
  {
   "cell_type": "code",
   "execution_count": 12,
   "metadata": {},
   "outputs": [],
   "source": [
    "for trainInd, valInd in kf.split(X_trainval, y_trainval):\n",
    "    X_train = X_trainval.iloc[trainInd,:]\n",
    "    y_train = y_trainval.iloc[trainInd]\n",
    "    X_val = X_trainval.iloc[valInd,:]\n",
    "    y_val = y_trainval.iloc[valInd]\n",
    "    \n",
    "    clf_svm1.fit(X_train, y_train)\n",
    "    clf_svm2.fit(X_train, y_train)\n",
    "    clf_knn1.fit(X_train, y_train)\n",
    "    clf_knn2.fit(X_train, y_train)\n",
    "    \n",
    "    pred_svm1 = clf_svm1.predict(X_val)\n",
    "    pred_svm2 = clf_svm2.predict(X_val)\n",
    "    pred_knn1 = clf_knn1.predict(X_val)\n",
    "    pred_knn2 = clf_knn2.predict(X_val)\n",
    "    \n",
    "    foldAcc_svm1.append(accuracy_score(y_val, pred_svm1) * 100)\n",
    "    foldAcc_svm2.append(accuracy_score(y_val, pred_svm2) * 100)\n",
    "    foldAcc_knn1.append(accuracy_score(y_val, pred_knn1) * 100)\n",
    "    foldAcc_knn2.append(accuracy_score(y_val, pred_knn2) * 100)"
   ]
  },
  {
   "cell_type": "code",
   "execution_count": 13,
   "metadata": {},
   "outputs": [
    {
     "name": "stdout",
     "output_type": "stream",
     "text": [
      "SVM1 Accuracy: 59.69%\n",
      "SVM2 Accuracy: 50.00%\n",
      "KNN1 Accuracy: 77.68%\n",
      "KNN2 Accuracy: 77.54%\n"
     ]
    }
   ],
   "source": [
    "print(f'SVM1 Accuracy: {np.mean(foldAcc_svm1):.2f}%')\n",
    "print(f'SVM2 Accuracy: {np.mean(foldAcc_svm2):.2f}%')\n",
    "print(f'KNN1 Accuracy: {np.mean(foldAcc_knn1):.2f}%')\n",
    "print(f'KNN2 Accuracy: {np.mean(foldAcc_knn2):.2f}%')"
   ]
  },
  {
   "cell_type": "markdown",
   "metadata": {},
   "source": [
    "Evaluate the Winner\n",
    "---\n",
    "\n",
    "* Check final version and make sure we pick the real winner"
   ]
  },
  {
   "cell_type": "code",
   "execution_count": 16,
   "metadata": {},
   "outputs": [
    {
     "name": "stdout",
     "output_type": "stream",
     "text": [
      "Final Accuracy: 75.52%\n"
     ]
    }
   ],
   "source": [
    "predictions = clf_knn1.predict(X_test)\n",
    "acc = accuracy_score(y_test, predictions)\n",
    "print(f'Final Accuracy: {acc*100:.2f}%')"
   ]
  },
  {
   "cell_type": "code",
   "execution_count": null,
   "metadata": {},
   "outputs": [],
   "source": []
  }
 ],
 "metadata": {
  "celltoolbar": "Slideshow",
  "kernelspec": {
   "display_name": "Python 3",
   "language": "python",
   "name": "python3"
  },
  "language_info": {
   "codemirror_mode": {
    "name": "ipython",
    "version": 3
   },
   "file_extension": ".py",
   "mimetype": "text/x-python",
   "name": "python",
   "nbconvert_exporter": "python",
   "pygments_lexer": "ipython3",
   "version": "3.6.5"
  }
 },
 "nbformat": 4,
 "nbformat_minor": 2
}
