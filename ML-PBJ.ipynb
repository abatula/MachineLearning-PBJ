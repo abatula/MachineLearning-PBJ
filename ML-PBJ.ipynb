{
 "cells": [
  {
   "cell_type": "markdown",
   "metadata": {
    "slideshow": {
     "slide_type": "slide"
    }
   },
   "source": [
    "Will there be a tornado today? Classification with Scikit-Learn\n",
    "===\n",
    "\n",
    "### Alyssa Batula\n",
    "\n",
    "\n",
    "Jupyter Notebooks: https://github.com/abatula/MachineLearning-PBJ\n",
    " \n",
    "8/14/2018<br>\n",
    "IndyPy - Machine Learning"
   ]
  },
  {
   "cell_type": "markdown",
   "metadata": {
    "slideshow": {
     "slide_type": "slide"
    }
   },
   "source": [
    "The Problem\n",
    "===\n",
    "\n",
    "* Dataset: [NOAA Weather Data](https://www.kaggle.com/noaa/gsod) from Kaggle \n",
    "    - Daily weather recordings from ~9,000 weather stations\n",
    "    - Temperature, precipitation, fog, etc.\n",
    "* Goal: predict if tornado will form based on other weather data\n",
    "    - Classification: yes or no\n",
    "* Compare 4 classifiers"
   ]
  },
  {
   "cell_type": "markdown",
   "metadata": {
    "slideshow": {
     "slide_type": "slide"
    }
   },
   "source": [
    "Assumptions\n",
    "===\n",
    "\n",
    "* Dataset has been cleaned/scrubbed\n",
    "    - No missing data\n",
    "    - All features numeric\n",
    "* Un-needed features removed"
   ]
  },
  {
   "cell_type": "code",
   "execution_count": 1,
   "metadata": {
    "slideshow": {
     "slide_type": "skip"
    }
   },
   "outputs": [],
   "source": [
    "# Imports\n",
    "from IPython.display import display\n",
    "\n",
    "import pandas as pd\n",
    "import numpy as np\n",
    "import matplotlib.pyplot as plt\n",
    "%matplotlib inline"
   ]
  },
  {
   "cell_type": "markdown",
   "metadata": {
    "slideshow": {
     "slide_type": "slide"
    }
   },
   "source": [
    "The Data\n",
    "==="
   ]
  },
  {
   "cell_type": "code",
   "execution_count": 2,
   "metadata": {
    "slideshow": {
     "slide_type": "-"
    }
   },
   "outputs": [
    {
     "data": {
      "text/html": [
       "<div>\n",
       "<style scoped>\n",
       "    .dataframe tbody tr th:only-of-type {\n",
       "        vertical-align: middle;\n",
       "    }\n",
       "\n",
       "    .dataframe tbody tr th {\n",
       "        vertical-align: top;\n",
       "    }\n",
       "\n",
       "    .dataframe thead th {\n",
       "        text-align: right;\n",
       "    }\n",
       "</style>\n",
       "<table border=\"1\" class=\"dataframe\">\n",
       "  <thead>\n",
       "    <tr style=\"text-align: right;\">\n",
       "      <th></th>\n",
       "      <th>temp</th>\n",
       "      <th>thunder</th>\n",
       "      <th>tornado_funnel_cloud</th>\n",
       "    </tr>\n",
       "  </thead>\n",
       "  <tbody>\n",
       "    <tr>\n",
       "      <th>count</th>\n",
       "      <td>4700.000000</td>\n",
       "      <td>4700.000000</td>\n",
       "      <td>4700.000000</td>\n",
       "    </tr>\n",
       "    <tr>\n",
       "      <th>mean</th>\n",
       "      <td>58.785043</td>\n",
       "      <td>0.146596</td>\n",
       "      <td>0.255319</td>\n",
       "    </tr>\n",
       "    <tr>\n",
       "      <th>std</th>\n",
       "      <td>24.130119</td>\n",
       "      <td>0.353740</td>\n",
       "      <td>0.436087</td>\n",
       "    </tr>\n",
       "    <tr>\n",
       "      <th>min</th>\n",
       "      <td>-50.900000</td>\n",
       "      <td>0.000000</td>\n",
       "      <td>0.000000</td>\n",
       "    </tr>\n",
       "    <tr>\n",
       "      <th>25%</th>\n",
       "      <td>44.600000</td>\n",
       "      <td>0.000000</td>\n",
       "      <td>0.000000</td>\n",
       "    </tr>\n",
       "    <tr>\n",
       "      <th>50%</th>\n",
       "      <td>64.000000</td>\n",
       "      <td>0.000000</td>\n",
       "      <td>0.000000</td>\n",
       "    </tr>\n",
       "    <tr>\n",
       "      <th>75%</th>\n",
       "      <td>79.100000</td>\n",
       "      <td>0.000000</td>\n",
       "      <td>1.000000</td>\n",
       "    </tr>\n",
       "    <tr>\n",
       "      <th>max</th>\n",
       "      <td>101.900000</td>\n",
       "      <td>1.000000</td>\n",
       "      <td>1.000000</td>\n",
       "    </tr>\n",
       "  </tbody>\n",
       "</table>\n",
       "</div>"
      ],
      "text/plain": [
       "              temp      thunder  tornado_funnel_cloud\n",
       "count  4700.000000  4700.000000           4700.000000\n",
       "mean     58.785043     0.146596              0.255319\n",
       "std      24.130119     0.353740              0.436087\n",
       "min     -50.900000     0.000000              0.000000\n",
       "25%      44.600000     0.000000              0.000000\n",
       "50%      64.000000     0.000000              0.000000\n",
       "75%      79.100000     0.000000              1.000000\n",
       "max     101.900000     1.000000              1.000000"
      ]
     },
     "execution_count": 2,
     "metadata": {},
     "output_type": "execute_result"
    }
   ],
   "source": [
    "data = pd.read_csv('data/NOAA.csv')\n",
    "data[['temp', 'thunder', 'tornado_funnel_cloud']].describe()"
   ]
  },
  {
   "cell_type": "markdown",
   "metadata": {
    "slideshow": {
     "slide_type": "slide"
    }
   },
   "source": [
    "Determine Target Variable and Features\n",
    "---\n",
    "\n",
    "* Classification: Tornado (1) or No Tornado (0)\n",
    "* Target value in `y`\n",
    "* Features in `X`"
   ]
  },
  {
   "cell_type": "code",
   "execution_count": 3,
   "metadata": {
    "slideshow": {
     "slide_type": "-"
    }
   },
   "outputs": [],
   "source": [
    "y = data['tornado_funnel_cloud']\n",
    "X = data.drop('tornado_funnel_cloud', axis=1)"
   ]
  },
  {
   "cell_type": "markdown",
   "metadata": {
    "slideshow": {
     "slide_type": "slide"
    }
   },
   "source": [
    "Training, Testing, and Validation\n",
    "===\n",
    "\n",
    "![Train/Test/Validation Split](img/TrainTestValSplit.png)"
   ]
  },
  {
   "cell_type": "markdown",
   "metadata": {
    "slideshow": {
     "slide_type": "fragment"
    }
   },
   "source": [
    "- **Training Set** - Portion of the data used to train a machine learning algorithm.\n",
    "- **Validation Set** - (Optional) Portion of data (usually 10-30%) used for testing during parameter tuning or classifier selection.\n",
    "- **Testing Set** - Portion of the data (usually 10-30%) not used in training, used to evaluate performance."
   ]
  },
  {
   "cell_type": "markdown",
   "metadata": {
    "slideshow": {
     "slide_type": "slide"
    }
   },
   "source": [
    "Training, Testing, and Validation\n",
    "===\n",
    "\n",
    "* **Training Set** - Homework\n",
    "    - Many exercises, start knowing nothing\n",
    "    - Use the answers to learn"
   ]
  },
  {
   "cell_type": "markdown",
   "metadata": {
    "slideshow": {
     "slide_type": "fragment"
    }
   },
   "source": [
    "* **Validation Set** - Practice Exam\n",
    "    - Few exercises, use knowledge from training\n",
    "    - Use answers to decide if ready for testing"
   ]
  },
  {
   "cell_type": "markdown",
   "metadata": {
    "slideshow": {
     "slide_type": "fragment"
    }
   },
   "source": [
    "* **Test Set** - Final Exam\n",
    "    - Few exercises, use knowledge from training/validation\n",
    "    - Use answers to give your algorithm final grade"
   ]
  },
  {
   "cell_type": "markdown",
   "metadata": {
    "slideshow": {
     "slide_type": "slide"
    }
   },
   "source": [
    "Create a Test Set\n",
    "==="
   ]
  },
  {
   "cell_type": "code",
   "execution_count": 4,
   "metadata": {
    "slideshow": {
     "slide_type": "-"
    }
   },
   "outputs": [
    {
     "name": "stdout",
     "output_type": "stream",
     "text": [
      "Original dataset size: (4700, 28)\n",
      "Training & Validation dataset size: (3525, 28)\n",
      "Test dataset size: (1175, 28)\n"
     ]
    },
    {
     "name": "stderr",
     "output_type": "stream",
     "text": [
      "/home/alyssa/anaconda3/lib/python3.7/site-packages/sklearn/utils/__init__.py:4: DeprecationWarning: Using or importing the ABCs from 'collections' instead of from 'collections.abc' is deprecated, and in 3.8 it will stop working\n",
      "  from collections import Sequence\n"
     ]
    }
   ],
   "source": [
    "from sklearn.model_selection import train_test_split\n",
    "\n",
    "(X_trainval, \n",
    " X_test, \n",
    " y_trainval, \n",
    " y_test) = train_test_split(X, y, \n",
    "                            test_size=0.25, # Percentage of data for test set\n",
    "                            stratify=y, # Keep label distribution when splitting\n",
    "                            random_state=42 # Set the random seed for repeatability\n",
    "                           )\n",
    "print(f'Original dataset size: {X.shape}')\n",
    "print(f'Training & Validation dataset size: {X_trainval.shape}')\n",
    "print(f'Test dataset size: {X_test.shape}')"
   ]
  },
  {
   "cell_type": "markdown",
   "metadata": {
    "slideshow": {
     "slide_type": "slide"
    }
   },
   "source": [
    "Create Validation and Training Sets\n",
    "---"
   ]
  },
  {
   "cell_type": "code",
   "execution_count": 5,
   "metadata": {
    "slideshow": {
     "slide_type": "-"
    }
   },
   "outputs": [
    {
     "name": "stdout",
     "output_type": "stream",
     "text": [
      "Original dataset size: (4700, 28)\n",
      "Training dataset size: (2361, 28)\n",
      "Validation dataset size: (1164, 28)\n",
      "Test dataset size: (1175, 28)\n"
     ]
    }
   ],
   "source": [
    "X_train, X_val, y_train, y_val = train_test_split(X_trainval, y_trainval, \n",
    "                                                  test_size=0.33, \n",
    "                                                  stratify=y_trainval, \n",
    "                                                  random_state=42 \n",
    "                                                  )\n",
    "print(f'Original dataset size: {X.shape}')\n",
    "print(f'Training dataset size: {X_train.shape}')\n",
    "print(f'Validation dataset size: {X_val.shape}')\n",
    "print(f'Test dataset size: {X_test.shape}')"
   ]
  },
  {
   "cell_type": "markdown",
   "metadata": {
    "slideshow": {
     "slide_type": "notes"
    }
   },
   "source": [
    "Notes\n",
    "---\n",
    "\n",
    "* Test size increased from .25 to .33 because we're splitting a smaller subset of the original data\n",
    "* Test and validation sets should be approximately the same size"
   ]
  },
  {
   "cell_type": "markdown",
   "metadata": {
    "slideshow": {
     "slide_type": "slide"
    }
   },
   "source": [
    "Classifiers\n",
    "===\n",
    "\n",
    "* K Nearest Neighbors (KNN)\n",
    "* Support Vector Machine (SVM)"
   ]
  },
  {
   "cell_type": "code",
   "execution_count": 6,
   "metadata": {
    "slideshow": {
     "slide_type": "skip"
    }
   },
   "outputs": [],
   "source": [
    "# # Uncomment to re-create our KNN plot for display\n",
    "\n",
    "# from sklearn import neighbors\n",
    "# from matplotlib.colors import ListedColormap\n",
    "\n",
    "# X = np.array([[0,1], [1,2], [0,3.5], [0.5,1], [1,4], [0.5, 3], [2,1], [3,4], [0.5, 2], [1.5, 3], [2.2, 2.2], [2.5, 1.8]])\n",
    "# y = [0, 0, 0, 0, 0, 0, 1, 1, 1, 1, 1 ,1]\n",
    "\n",
    "# clf = neighbors.KNeighborsClassifier(3)\n",
    "# clf.fit(X,y)\n",
    "\n",
    "# h = .02  # step size in the mesh\n",
    "\n",
    "# # Plot the decision boundary. For that, we will assign a color to each\n",
    "# # point in the mesh [x_min, m_max]x[y_min, y_max].\n",
    "# x_min, x_max = X[:, 0].min() - 1, X[:, 0].max() + 1\n",
    "# y_min, y_max = X[:, 1].min() - 1, X[:, 1].max() + 1\n",
    "# xx, yy = np.meshgrid(np.arange(x_min, x_max, h),\n",
    "#                      np.arange(y_min, y_max, h))\n",
    "\n",
    "# Z = clf.predict(np.c_[xx.ravel(), yy.ravel()]) # Make a prediction oat every point \n",
    "#                                                # in the mesh in order to find the \n",
    "#                                                # classification areas for each label\n",
    "        \n",
    "# # Create the color maps\n",
    "# cmap_bold = ListedColormap(['#FF0000', '#00FF00', '#0000FF'])\n",
    "# cmap_light = ListedColormap(['#FFAAAA', '#AAFFAA', '#AAAAFF'])\n",
    "\n",
    "# # Put the result into a color plot\n",
    "# Z = Z.reshape(xx.shape)\n",
    "# plt.figure(figsize=(8, 6))\n",
    "# plt.pcolormesh(xx, yy, Z, cmap=cmap_light)\n",
    "\n",
    "# # Plot the training points\n",
    "# plt.scatter(X[:, 0], X[:, 1], c=y, cmap=cmap_bold, s=100)\n",
    "# plt.xlim(xx.min(), xx.max())\n",
    "# plt.ylim(yy.min(), yy.max())\n",
    "# plt.title(\"KNN with K=3\", fontsize=22)\n",
    "# plt.xlabel('Feature 1', fontsize=18)\n",
    "# plt.ylabel('Feature 2', fontsize=18)\n",
    "\n",
    "# plt.scatter(0.3, 1.7, c='k', marker='^', s=300)\n",
    "# plt.scatter(0.3, 1.7, facecolors='none', edgecolors='k', s=14000)\n",
    "# plt.savefig('img/knn_example.png', dpi=500)\n",
    "# plt.show()"
   ]
  },
  {
   "cell_type": "markdown",
   "metadata": {
    "slideshow": {
     "slide_type": "slide"
    }
   },
   "source": [
    "K Nearest Neighbors (KNN)\n",
    "---\n",
    "\n",
    "* Assigns the same label as majority of neighbors\n",
    "* Parameters:\n",
    "    - `n_neighbors` - Number of neighbors to consider\n",
    "    - `weights` - Determine if closer neighbors are more important\n",
    "        * `uniform` or `distance`"
   ]
  },
  {
   "cell_type": "markdown",
   "metadata": {
    "slideshow": {
     "slide_type": "-"
    }
   },
   "source": [
    "![KNN Example](img/knn_example.png)"
   ]
  },
  {
   "cell_type": "markdown",
   "metadata": {
    "slideshow": {
     "slide_type": "notes"
    }
   },
   "source": [
    "* Label chosen based on vote of nearest labeled examples\n",
    "* In plot above: red and blue circles are two classes, black triangle is unknown point\n",
    "* Triangle will be labeled red, since we chose K=3 and 2/3 closest points are red"
   ]
  },
  {
   "cell_type": "markdown",
   "metadata": {
    "slideshow": {
     "slide_type": "slide"
    }
   },
   "source": [
    "Training the KNN Classifier\n",
    "---"
   ]
  },
  {
   "cell_type": "code",
   "execution_count": 7,
   "metadata": {
    "slideshow": {
     "slide_type": "-"
    }
   },
   "outputs": [],
   "source": [
    "from sklearn import neighbors\n",
    "from sklearn.metrics import accuracy_score"
   ]
  },
  {
   "cell_type": "code",
   "execution_count": 8,
   "metadata": {
    "slideshow": {
     "slide_type": "fragment"
    }
   },
   "outputs": [],
   "source": [
    "n_neighbors = 15\n",
    "clf = neighbors.KNeighborsClassifier(n_neighbors, weights='uniform')"
   ]
  },
  {
   "cell_type": "code",
   "execution_count": 9,
   "metadata": {
    "slideshow": {
     "slide_type": "fragment"
    }
   },
   "outputs": [
    {
     "data": {
      "text/plain": [
       "KNeighborsClassifier(algorithm='auto', leaf_size=30, metric='minkowski',\n",
       "           metric_params=None, n_jobs=1, n_neighbors=15, p=2,\n",
       "           weights='uniform')"
      ]
     },
     "execution_count": 9,
     "metadata": {},
     "output_type": "execute_result"
    }
   ],
   "source": [
    "clf.fit(X_train, y_train)"
   ]
  },
  {
   "cell_type": "code",
   "execution_count": 10,
   "metadata": {
    "slideshow": {
     "slide_type": "fragment"
    }
   },
   "outputs": [],
   "source": [
    "predictions = clf.predict(X_val)"
   ]
  },
  {
   "cell_type": "code",
   "execution_count": 11,
   "metadata": {
    "slideshow": {
     "slide_type": "fragment"
    }
   },
   "outputs": [
    {
     "name": "stdout",
     "output_type": "stream",
     "text": [
      "Accuracy is 80.93%\n"
     ]
    }
   ],
   "source": [
    "acc = accuracy_score(y_val, predictions) * 100\n",
    "\n",
    "print(f'Accuracy is {acc:.2f}%')"
   ]
  },
  {
   "cell_type": "markdown",
   "metadata": {
    "slideshow": {
     "slide_type": "slide"
    }
   },
   "source": [
    "Support Vector Machine (SVM)\n",
    "---\n",
    "\n",
    "* Find line or plane that maximizes the class separation \n",
    "* Parameters:\n",
    "    - `C` - Penalty for misclassified training examples\n",
    "        * High C - high penalty - complex boundary\n",
    "    - `kernel` - Type of boundary\n",
    "        * `linear`, `rbf`, `poly`\n",
    "\n",
    "![SVM](img/SVMBoundary.png)\n",
    "\n"
   ]
  },
  {
   "cell_type": "markdown",
   "metadata": {
    "slideshow": {
     "slide_type": "notes"
    }
   },
   "source": [
    "The solid line is the decision boundary, dividing the red and blue classes. Notice that on either side of the boundary, there is a dotted line that passes through the closest datapoints. The distance between the solid boundary line and this dotted line is what an SVM tries to maximize. \n",
    "\n",
    "The points that touch the dotted lines are called \"support vectors\". These points are the only ones that matter when determining boundary locations. All other datapoints can be added, moved, or removed from the dataset without changing the classification boundary, as long as they do not cross that dotted line."
   ]
  },
  {
   "cell_type": "markdown",
   "metadata": {
    "slideshow": {
     "slide_type": "slide"
    }
   },
   "source": [
    "Training the SVM Classifier\n",
    "==="
   ]
  },
  {
   "cell_type": "code",
   "execution_count": 12,
   "metadata": {
    "slideshow": {
     "slide_type": "-"
    }
   },
   "outputs": [],
   "source": [
    "from sklearn.svm import SVC\n",
    "from sklearn.metrics import accuracy_score"
   ]
  },
  {
   "cell_type": "code",
   "execution_count": 13,
   "metadata": {
    "slideshow": {
     "slide_type": "fragment"
    }
   },
   "outputs": [],
   "source": [
    "clf = SVC(C=1.0, kernel='rbf')"
   ]
  },
  {
   "cell_type": "code",
   "execution_count": 14,
   "metadata": {
    "slideshow": {
     "slide_type": "fragment"
    }
   },
   "outputs": [],
   "source": [
    "clf.fit(X_train, y_train)\n",
    "predictions = clf.predict(X_val)"
   ]
  },
  {
   "cell_type": "code",
   "execution_count": 15,
   "metadata": {
    "slideshow": {
     "slide_type": "fragment"
    }
   },
   "outputs": [
    {
     "name": "stdout",
     "output_type": "stream",
     "text": [
      "Accuracy is 74.91%\n"
     ]
    }
   ],
   "source": [
    "acc = accuracy_score(y_val, predictions) * 100\n",
    "\n",
    "print(f'Accuracy is {acc:.2f}%')"
   ]
  },
  {
   "cell_type": "markdown",
   "metadata": {
    "slideshow": {
     "slide_type": "slide"
    }
   },
   "source": [
    "Choose the Best Classifier\n",
    "==="
   ]
  },
  {
   "cell_type": "code",
   "execution_count": 16,
   "metadata": {
    "slideshow": {
     "slide_type": "-"
    }
   },
   "outputs": [],
   "source": [
    "clf_svm1 = SVC(C=1.0, kernel='rbf')\n",
    "clf_svm2 = SVC(C=0.1, kernel='sigmoid')\n",
    "clf_knn1 = neighbors.KNeighborsClassifier(5, weights='uniform')\n",
    "clf_knn2 = neighbors.KNeighborsClassifier(10, weights='distance')"
   ]
  },
  {
   "cell_type": "code",
   "execution_count": 17,
   "metadata": {
    "slideshow": {
     "slide_type": "fragment"
    }
   },
   "outputs": [
    {
     "data": {
      "text/plain": [
       "KNeighborsClassifier(algorithm='auto', leaf_size=30, metric='minkowski',\n",
       "           metric_params=None, n_jobs=1, n_neighbors=10, p=2,\n",
       "           weights='distance')"
      ]
     },
     "execution_count": 17,
     "metadata": {},
     "output_type": "execute_result"
    }
   ],
   "source": [
    "clf_svm1.fit(X_train, y_train)\n",
    "clf_svm2.fit(X_train, y_train)\n",
    "clf_knn1.fit(X_train, y_train)\n",
    "clf_knn2.fit(X_train, y_train)"
   ]
  },
  {
   "cell_type": "code",
   "execution_count": 18,
   "metadata": {
    "slideshow": {
     "slide_type": "fragment"
    }
   },
   "outputs": [],
   "source": [
    "pred_svm1 = clf_svm1.predict(X_val)\n",
    "pred_svm2 = clf_svm2.predict(X_val)\n",
    "pred_knn1 = clf_knn1.predict(X_val)\n",
    "pred_knn2 = clf_knn2.predict(X_val)"
   ]
  },
  {
   "cell_type": "markdown",
   "metadata": {
    "slideshow": {
     "slide_type": "slide"
    }
   },
   "source": [
    "Choose the Best Classifier (Continued)\n",
    "==="
   ]
  },
  {
   "cell_type": "code",
   "execution_count": 19,
   "metadata": {
    "slideshow": {
     "slide_type": "-"
    }
   },
   "outputs": [],
   "source": [
    "valAcc_svm1 = accuracy_score(y_val, pred_svm1) * 100\n",
    "valAcc_svm2 = accuracy_score(y_val, pred_svm2) * 100\n",
    "valAcc_knn1 = accuracy_score(y_val, pred_knn1) * 100\n",
    "valAcc_knn2 = accuracy_score(y_val, pred_knn2) * 100"
   ]
  },
  {
   "cell_type": "code",
   "execution_count": 20,
   "metadata": {
    "slideshow": {
     "slide_type": "fragment"
    }
   },
   "outputs": [
    {
     "name": "stdout",
     "output_type": "stream",
     "text": [
      "SVM1 Accuracy: 74.91%\n",
      "SVM2 Accuracy: 74.48%\n",
      "KNN1 Accuracy: 81.87%\n",
      "KNN2 Accuracy: 82.39%\n"
     ]
    }
   ],
   "source": [
    "print(f'SVM1 Accuracy: {np.mean(valAcc_svm1):.2f}%')\n",
    "print(f'SVM2 Accuracy: {np.mean(valAcc_svm2):.2f}%')\n",
    "print(f'KNN1 Accuracy: {np.mean(valAcc_knn1):.2f}%')\n",
    "print(f'KNN2 Accuracy: {np.mean(valAcc_knn2):.2f}%')"
   ]
  },
  {
   "cell_type": "markdown",
   "metadata": {
    "slideshow": {
     "slide_type": "slide"
    }
   },
   "source": [
    "Evaluate the Winner\n",
    "---\n",
    "\n",
    "* Retrain winning classifier on training + validation data\n",
    "* Evaluate on test set"
   ]
  },
  {
   "cell_type": "code",
   "execution_count": 21,
   "metadata": {
    "slideshow": {
     "slide_type": "-"
    }
   },
   "outputs": [
    {
     "name": "stdout",
     "output_type": "stream",
     "text": [
      "Final Accuracy: 83.74%\n"
     ]
    }
   ],
   "source": [
    "clf_knn2.fit(X_trainval, y_trainval)\n",
    "\n",
    "predictions = clf_knn2.predict(X_test)\n",
    "\n",
    "acc = accuracy_score(y_test, predictions)\n",
    "print(f'Final Accuracy: {acc*100:.2f}%')"
   ]
  },
  {
   "cell_type": "code",
   "execution_count": null,
   "metadata": {},
   "outputs": [],
   "source": []
  }
 ],
 "metadata": {
  "celltoolbar": "Slideshow",
  "kernelspec": {
   "display_name": "Python 3",
   "language": "python",
   "name": "python3"
  },
  "language_info": {
   "codemirror_mode": {
    "name": "ipython",
    "version": 3
   },
   "file_extension": ".py",
   "mimetype": "text/x-python",
   "name": "python",
   "nbconvert_exporter": "python",
   "pygments_lexer": "ipython3",
   "version": "3.7.0"
  }
 },
 "nbformat": 4,
 "nbformat_minor": 2
}
